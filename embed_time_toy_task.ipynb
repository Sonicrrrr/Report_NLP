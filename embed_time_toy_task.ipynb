{
  "cells": [
    {
      "cell_type": "code",
      "execution_count": null,
      "metadata": {
        "id": "ggM3SQ9u7G-I"
      },
      "outputs": [],
      "source": [
        "!pip install node2vec==0.4.1 #0.4.1\n",
        "!pip install networkx==2.5 # 2.5 , gensim-3.8.3\n",
        "!pip install pandas==1.0.3\n",
        "!pip install ipywidgets\n",
        "from ipywidgets import IntProgress"
      ]
    },
    {
      "cell_type": "code",
      "execution_count": null,
      "metadata": {
        "id": "DokDuoS-7G-R"
      },
      "outputs": [],
      "source": [
        "import node2vec\n",
        "import itertools\n",
        "import networkx as nx\n",
        "import pickle\n",
        "import pandas as pd"
      ]
    },
    {
      "cell_type": "code",
      "execution_count": null,
      "metadata": {
        "id": "mEJRka5E7G-U"
      },
      "outputs": [],
      "source": [
        "mkdir -p ./label_embeddings/"
      ]
    },
    {
      "cell_type": "code",
      "execution_count": null,
      "metadata": {
        "id": "pXwE5UOp7G-W"
      },
      "outputs": [],
      "source": [
        "def embed_labels(G):\n",
        "  import node2vec\n",
        "  from node2vec import Node2Vec\n",
        "  # Precompute probabilities and generate walks - **ON WINDOWS ONLY WORKS WITH workers=1**\n",
        "  node2vec = Node2Vec(G, dimensions=768, walk_length=5, num_walks=1000, workers=4)  # Use temp_folder for big graphs\n",
        "  # Embed nodes\n",
        "  label_embedder = node2vec.fit(window=10, min_count=1, batch_words=4)  # Any keywords acceptable by gensim.Word2Vec can be passed, `dimensions` and `workers` are automatically passed (from the Node2Vec constructor)\n",
        "  return label_embedder\n"
      ]
    },
    {
      "cell_type": "code",
      "execution_count": null,
      "metadata": {
        "id": "vfAEtdvr7G-Z"
      },
      "outputs": [],
      "source": [
        "import numpy as np\n",
        "time_graph = nx.Graph()\n",
        "for i in np.arange(1900, 2000):\n",
        "  time_graph.add_edge(i, i + 1)\n",
        "\n",
        "output_prefix = 'toy_president_time'\n",
        "time_graph_embedder = embed_labels(time_graph)\n",
        "time_graph_embedder.wv.save_word2vec_format(fname='./label_embeddings/{}.txt'.format(output_prefix))\n",
        "pickle.dump(time_graph_embedder, open('./label_embeddings/{}.pkl'.format(output_prefix), 'wb'))"
      ]
    },
    {
      "cell_type": "code",
      "execution_count": null,
      "metadata": {
        "id": "zybl2CNL7G-c"
      },
      "outputs": [],
      "source": [
        "time_graph_embedder.most_similar('1900')"
      ]
    }
  ],
  "metadata": {
    "kernelspec": {
      "display_name": "pip",
      "language": "python",
      "name": "pip"
    },
    "language_info": {
      "codemirror_mode": {
        "name": "ipython",
        "version": 3
      },
      "file_extension": ".py",
      "mimetype": "text/x-python",
      "name": "python",
      "nbconvert_exporter": "python",
      "pygments_lexer": "ipython3",
      "version": "3.7.9"
    },
    "mldash_entity": {
      "uuid": "1433094373491679238",
      "vfs_path": "/user/vkulkarni/socially_finetuned_lm/embed_time_camera_ready.ipynb",
      "is_vfs_dir": false,
      "hash": "b35e252514d16d97b865b9097ffef7ffd016f252",
      "created_at_millis": 1630511298887,
      "owner": "vkulkarni",
      "marked_pdp_safe": false,
      "inferred_pdp_safe": false,
      "tags": [],
      "shared_to_ldap_groups": [],
      "shared_to_ldap_users": [],
      "size": 1008,
      "shared_to_everyone": false
    },
    "colab": {
      "name": "embed_time_toy_task.ipynb",
      "provenance": []
    }
  },
  "nbformat": 4,
  "nbformat_minor": 0
}